{
  "nbformat": 4,
  "nbformat_minor": 0,
  "metadata": {
    "colab": {
      "provenance": [],
      "authorship_tag": "ABX9TyNo1mIq2HdOtP2kizJE+v5H",
      "include_colab_link": true
    },
    "kernelspec": {
      "name": "python3",
      "display_name": "Python 3"
    },
    "language_info": {
      "name": "python"
    }
  },
  "cells": [
    {
      "cell_type": "markdown",
      "metadata": {
        "id": "view-in-github",
        "colab_type": "text"
      },
      "source": [
        "<a href=\"https://colab.research.google.com/github/vandoette/lab3_sympy_DRUELO.ipynb/blob/main/lab3_sympy_DRUELO.ipynb\" target=\"_parent\"><img src=\"https://colab.research.google.com/assets/colab-badge.svg\" alt=\"Open In Colab\"/></a>"
      ]
    },
    {
      "cell_type": "code",
      "execution_count": 12,
      "metadata": {
        "id": "WhN67X6M1wBE"
      },
      "outputs": [],
      "source": [
        "from sympy import symbols, simplify, expand, sqrt, solve, Eq\n"
      ]
    },
    {
      "cell_type": "code",
      "source": [
        "# Expression 1: 53 + 10√2\n",
        "expr1 = 53 + 10 * sqrt(2)\n",
        "expr1\n"
      ],
      "metadata": {
        "colab": {
          "base_uri": "https://localhost:8080/",
          "height": 38
        },
        "id": "NQARFT9b18dB",
        "outputId": "6df391ae-6583-4901-8ec1-5bba1e05c5b3"
      },
      "execution_count": 13,
      "outputs": [
        {
          "output_type": "execute_result",
          "data": {
            "text/plain": [
              "10*sqrt(2) + 53"
            ],
            "text/latex": "$\\displaystyle 10 \\sqrt{2} + 53$"
          },
          "metadata": {},
          "execution_count": 13
        }
      ]
    },
    {
      "cell_type": "code",
      "source": [
        "# Expression 2: √50 × √59\n",
        "expr2 = sqrt(50) * sqrt(59)\n",
        "expr2\n"
      ],
      "metadata": {
        "colab": {
          "base_uri": "https://localhost:8080/",
          "height": 38
        },
        "id": "C3R_AKDp3y05",
        "outputId": "aa2bad34-8271-4812-f391-2db1f4f37c38"
      },
      "execution_count": 14,
      "outputs": [
        {
          "output_type": "execute_result",
          "data": {
            "text/plain": [
              "5*sqrt(118)"
            ],
            "text/latex": "$\\displaystyle 5 \\sqrt{118}$"
          },
          "metadata": {},
          "execution_count": 14
        }
      ]
    },
    {
      "cell_type": "code",
      "source": [
        "x, y = symbols('x y')\n",
        "\n",
        "# Equation 1: 2x + 3y = 12\n",
        "eq1 = Eq(2*x + 3*y, 12)\n",
        "eq1\n"
      ],
      "metadata": {
        "colab": {
          "base_uri": "https://localhost:8080/",
          "height": 39
        },
        "id": "ULeV_7lU31by",
        "outputId": "56246890-609b-468c-f7cb-f1860ed2ccb9"
      },
      "execution_count": 15,
      "outputs": [
        {
          "output_type": "execute_result",
          "data": {
            "text/plain": [
              "Eq(2*x + 3*y, 12)"
            ],
            "text/latex": "$\\displaystyle 2 x + 3 y = 12$"
          },
          "metadata": {},
          "execution_count": 15
        }
      ]
    },
    {
      "cell_type": "code",
      "source": [
        "# Equation 2: x - y = 4\n",
        "eq2 = Eq(x - y, 4)\n",
        "eq2\n"
      ],
      "metadata": {
        "colab": {
          "base_uri": "https://localhost:8080/",
          "height": 39
        },
        "id": "XxeU3ls734SO",
        "outputId": "5961b691-a207-4e0e-d3e3-e61b2ccc7a8a"
      },
      "execution_count": 16,
      "outputs": [
        {
          "output_type": "execute_result",
          "data": {
            "text/plain": [
              "Eq(x - y, 4)"
            ],
            "text/latex": "$\\displaystyle x - y = 4$"
          },
          "metadata": {},
          "execution_count": 16
        }
      ]
    },
    {
      "cell_type": "code",
      "source": [
        "# Simplify the first expression: (x^2 + 2x + 1)/(x + 1)\n",
        "expr3 = (x**2 + 2*x + 1) / (x + 1)\n",
        "simplified_expr3 = simplify(expr3)\n",
        "simplified_expr3\n"
      ],
      "metadata": {
        "colab": {
          "base_uri": "https://localhost:8080/",
          "height": 39
        },
        "id": "a0nlWNml39bM",
        "outputId": "4d9d6cae-d945-4f4b-80d5-694a0c7691f6"
      },
      "execution_count": 17,
      "outputs": [
        {
          "output_type": "execute_result",
          "data": {
            "text/plain": [
              "x + 1"
            ],
            "text/latex": "$\\displaystyle x + 1$"
          },
          "metadata": {},
          "execution_count": 17
        }
      ]
    },
    {
      "cell_type": "code",
      "source": [
        "# Simplify the second expression: (1 - 1/(1 + 1/x)) * (1 + 1/x)\n",
        "expr4 = (1 - 1/(1 + 1/x)) * (1 + 1/x)\n",
        "simplified_expr4 = simplify(expr4)\n",
        "simplified_expr4\n"
      ],
      "metadata": {
        "colab": {
          "base_uri": "https://localhost:8080/",
          "height": 51
        },
        "id": "H0PAZRQv4AsP",
        "outputId": "c757ca54-078d-47ec-d7d1-5e55d47a0048"
      },
      "execution_count": 18,
      "outputs": [
        {
          "output_type": "execute_result",
          "data": {
            "text/plain": [
              "1/x"
            ],
            "text/latex": "$\\displaystyle \\frac{1}{x}$"
          },
          "metadata": {},
          "execution_count": 18
        }
      ]
    },
    {
      "cell_type": "code",
      "source": [
        "# Expand the first expression: (2x + 2)^2\n",
        "expr5 = (2*x + 2)**2\n",
        "expanded_expr5 = expand(expr5)\n",
        "expanded_expr5\n"
      ],
      "metadata": {
        "colab": {
          "base_uri": "https://localhost:8080/",
          "height": 39
        },
        "id": "aNyyxg4n4E8t",
        "outputId": "50a22670-0c46-4583-e1ee-cbbe80ffc0ad"
      },
      "execution_count": 19,
      "outputs": [
        {
          "output_type": "execute_result",
          "data": {
            "text/plain": [
              "4*x**2 + 8*x + 4"
            ],
            "text/latex": "$\\displaystyle 4 x^{2} + 8 x + 4$"
          },
          "metadata": {},
          "execution_count": 19
        }
      ]
    },
    {
      "cell_type": "code",
      "source": [
        "# Expand the second expression: (2x + y)(x - 2y)\n",
        "expr6 = (2*x + y) * (x - 2*y)\n",
        "expanded_expr6 = expand(expr6)\n",
        "expanded_expr6\n"
      ],
      "metadata": {
        "colab": {
          "base_uri": "https://localhost:8080/",
          "height": 39
        },
        "id": "5U7wsuZx4Lsg",
        "outputId": "8a7b62cf-cbd6-4940-dcdc-c7dbefcb381d"
      },
      "execution_count": 20,
      "outputs": [
        {
          "output_type": "execute_result",
          "data": {
            "text/plain": [
              "2*x**2 - 3*x*y - 2*y**2"
            ],
            "text/latex": "$\\displaystyle 2 x^{2} - 3 x y - 2 y^{2}$"
          },
          "metadata": {},
          "execution_count": 20
        }
      ]
    }
  ]
}